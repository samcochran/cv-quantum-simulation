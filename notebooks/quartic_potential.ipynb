{
 "cells": [
  {
   "cell_type": "code",
   "execution_count": 9,
   "metadata": {},
   "outputs": [],
   "source": [
    "import numpy as np\n",
    "from numpy import pi, sqrt, sin, cos, exp\n",
    "from scipy.integrate import quad\n",
    "import strawberryfields as sf\n",
    "from strawberryfields.ops import *\n",
    "import sys\n",
    "sys.path.insert(0, './../dqs/classical')\n",
    "from classical_evolution import *\n",
    "from matplotlib import pyplot as plt\n",
    "plt.style.use('seaborn-v0_8-deep')\n",
    "from matplotlib.animation import FuncAnimation\n",
    "from IPython.display import HTML, display\n",
    "import warnings\n",
    "warnings.filterwarnings(action='ignore', module='strawberryfields')\n",
    "from tqdm import tqdm\n",
    "np.random.seed(42)\n",
    "sf.hbar = 1"
   ]
  },
  {
   "cell_type": "code",
   "execution_count": 10,
   "metadata": {},
   "outputs": [],
   "source": [
    "def animate_evolution(xvec, snapshots1, snapshots2=None, label1='First', label2='Second', interval=20):\n",
    "    fig, ax = plt.subplots()\n",
    "    lines = []\n",
    "    ln1, = ax.plot([], [], label=label1)\n",
    "    if snapshots2 is not None: ln2, = ax.plot([], [], label=label2, color='k', linestyle=':')\n",
    "    plt.legend(loc='upper right')\n",
    "\n",
    "    max_val = .05\n",
    "    for snapshot in snapshots1:\n",
    "        val = np.max(snapshot)\n",
    "        if val > max_val:\n",
    "            max_val = val\n",
    "    if snapshots2 is not None:\n",
    "        for snapshot in snapshots2:\n",
    "            val = np.max(snapshot)\n",
    "            if val > max_val:\n",
    "                max_val = val\n",
    "\n",
    "    def init():\n",
    "        ax.set_xlim(-L, L)\n",
    "        ax.set_ylim(-.05, max_val + .05)\n",
    "        if snapshots2 is not None: return ln1, ln2,\n",
    "        return ln1,\n",
    "\n",
    "    def update(frame):\n",
    "        ln1.set_data(xvec, snapshots1[frame])\n",
    "        if snapshots2 is not None: ln2.set_data(xvec, snapshots2[frame])\n",
    "        if snapshots2 is not None: return ln1, ln2,\n",
    "        return ln1,\n",
    "\n",
    "    ani = FuncAnimation(fig, update, frames=list(range(len(snapshots1))),\n",
    "                        init_func=init, blit=True, interval=interval)\n",
    "    return ani"
   ]
  },
  {
   "cell_type": "markdown",
   "metadata": {},
   "source": [
    "# Trotterized Hamiltonian"
   ]
  },
  {
   "cell_type": "code",
   "execution_count": 11,
   "metadata": {},
   "outputs": [],
   "source": [
    "def trotterized_hamiltonian(coeffs, dt, xvec, pvec, K, x0, p0, eng, squeeze=0, return_p_quad=False):\n",
    "    prog = sf.Program(2) #include an extra ancilla qumode to compute the quartic term\n",
    "    with prog.context as q:\n",
    "        def initial_state(p0):\n",
    "            # Initialize state\n",
    "            Vac | q[0] #initial vacuum state\n",
    "            Xgate(x0) | q[0] #displace q by x0\n",
    "            Zgate(p0) | q[0] #displace p by p0\n",
    "            Sgate(squeeze) | q[0] #squeeze (phase angle zero)\n",
    "\n",
    "        def fourier_cubic(k, beta):\n",
    "            Fouriergate() | q[k]\n",
    "            Vgate(beta) | q[k]\n",
    "            Fouriergate().H | q[k]\n",
    "\n",
    "        def custom(j, k, s): #G_jk in the notes\n",
    "            Vgate(9/4*(1/3)**(3/2)*s) | q[j]\n",
    "            fourier_cubic(k, -3*s)\n",
    "            CZgate(np.sqrt(1/3)) | (q[j], q[k])\n",
    "            fourier_cubic(k, 3*s)\n",
    "            CZgate(-np.sqrt(1/3)) | (q[j], q[k])\n",
    "            fourier_cubic(k, -3*s)\n",
    "            CZgate(-np.sqrt(1/3)) | (q[j], q[k])\n",
    "            fourier_cubic(k, 3*s)\n",
    "            CZgate(np.sqrt(1/3)) | (q[j], q[k])\n",
    "\n",
    "        def quartic(j, k, alpha):\n",
    "            Fouriergate() | q[k]\n",
    "            custom(j, k, -2*alpha)\n",
    "            Fouriergate().H | q[k]\n",
    "            Pgate(-2*alpha) | q[k]\n",
    "            custom(j, k, -1)\n",
    "            Pgate(2*alpha) | q[k]\n",
    "            custom(j, k, 1)\n",
    "\n",
    "        def kinetic_step(dt):\n",
    "            # Time step\n",
    "            Fouriergate() | q[0]\n",
    "            Pgate(-dt) | q[0]\n",
    "            Fouriergate().H | q[0]\n",
    "\n",
    "        def potential_step(coeffs, dt):\n",
    "            Pgate(-coeffs[0]*dt) | q[0] #quadratic term\n",
    "            Vgate(-coeffs[1]*dt/2) | q[0] #cubic term\n",
    "            quartic(0, 1, -coeffs[2]*dt/24) #quartic term\n",
    "\n",
    "        initial_state(p0)\n",
    "        for _ in range(K):\n",
    "            kinetic_step(dt)\n",
    "            potential_step(coeffs, dt)\n",
    "\n",
    "    result = eng.run(prog, shots=1)\n",
    "    if return_p_quad: return result.state.p_quad_values(0, xvec, pvec)\n",
    "    return result.state.x_quad_values(0, xvec, pvec)"
   ]
  },
  {
   "cell_type": "markdown",
   "metadata": {},
   "source": [
    "# Solution at Final Time"
   ]
  },
  {
   "cell_type": "code",
   "execution_count": 12,
   "metadata": {},
   "outputs": [],
   "source": [
    "coeffs = [1, 1, .1]\n",
    "x0 = .5\n",
    "p0 = 0\n",
    "squeeze = 0\n",
    "K = 1\n",
    "dt = .1\n",
    "L = 5\n",
    "xvec, pvec = np.linspace(-L, L, 500), 20*np.linspace(-L, L, 500)\n",
    "xpvec, xpvec = pvec.copy(), 10*pvec.copy()\n",
    "tvec = np.arange(0, dt*K, dt)"
   ]
  },
  {
   "cell_type": "code",
   "execution_count": 13,
   "metadata": {},
   "outputs": [
    {
     "name": "stderr",
     "output_type": "stream",
     "text": [
      "working on time evolution: 100%|██████████| 1/1 [00:00<00:00, 924.47it/s]\n"
     ]
    },
    {
     "name": "stdout",
     "output_type": "stream",
     "text": [
      "0.9322421583349134\n"
     ]
    },
    {
     "data": {
      "text/plain": [
       "[]"
      ]
     },
     "execution_count": 13,
     "metadata": {},
     "output_type": "execute_result"
    },
    {
     "data": {
      "image/png": "[encoded data removed]",
      "text/plain": [
       "<Figure size 800x550 with 1 Axes>"
      ]
     },
     "metadata": {},
     "output_type": "display_data"
    }
   ],
   "source": [
    "potential = lambda x: coeffs[0]*x**2 + coeffs[1]*x**3 + coeffs[2]*x**4\n",
    "def initial_wave_function(x):\n",
    "    sigma = 1\n",
    "    val = 1/pi**(1/4)*np.exp(-(x - x0)**2 / (2 * sigma**2))\n",
    "    return val\n",
    "states, t_grid, x_grid = time_evolve_2(potential, initial_wave_function, len(xvec), L, K, T=dt*K, f=lambda x: 0)\n",
    "bench = np.abs(states[-1])**2\n",
    "result = trotterized_hamiltonian(coeffs, dt, xvec, pvec, K, x0, p0, sf.Engine('fock', backend_options={\"cutoff_dim\": 60}), squeeze=squeeze)\n",
    "\n",
    "print(sum(result)*(xvec[1] - xvec[0]))\n",
    "\n",
    "plt.plot(xvec, result, label='Quantum Solution')\n",
    "plt.plot(xvec, bench, ':k', label='Classical Benchmark')\n",
    "plt.legend()\n",
    "plt.plot()"
   ]
  },
  {
   "cell_type": "markdown",
   "metadata": {},
   "source": [
    "# Animations"
   ]
  },
  {
   "cell_type": "code",
   "execution_count": 14,
   "metadata": {},
   "outputs": [],
   "source": [
    "# trotter_ham_snapshots = []\n",
    "# progress = tqdm(total=K)\n",
    "# for k in range(K):\n",
    "#     result2 = trotterized_hamiltonian(coeffs, dt, xvec, pvec, k, x0, p0, sf.Engine('fock', backend_options={\"cutoff_dim\": 20}), squeeze=squeeze)\n",
    "#     trotter_ham_snapshots.append(result2)\n",
    "#     progress.update(1)\n",
    "\n",
    "# progress.close()"
   ]
  },
  {
   "cell_type": "code",
   "execution_count": 15,
   "metadata": {},
   "outputs": [],
   "source": [
    "# potential = lambda x: coeffs[0]*x**2 + coeffs[1]*x**3 + coeffs[2]*x**4\n",
    "# def initial_wave_function(x):\n",
    "#     sigma = 1\n",
    "#     val = 1/pi**(1/4)*np.exp(-(x - x0)**2 / (2 * sigma**2))\n",
    "#     return val\n",
    "# states, t_grid, x_grid = time_evolve_2(potential, initial_wave_function, len(xvec), L, 1000, T=2, f=lambda x: 0)\n",
    "# exact_ham_snapshots = np.abs(states)**2"
   ]
  },
  {
   "cell_type": "code",
   "execution_count": 16,
   "metadata": {},
   "outputs": [],
   "source": [
    "# anim = animate_evolution(xvec, snapshots1=exact_ham_snapshots, label1='Classical Solution', interval=20)\n",
    "# # anim.save('./animations/hamiltonian.gif', writer='ffmpeg')\n",
    "# video = HTML(anim.to_html5_video())\n",
    "# display(video)\n",
    "# plt.close()"
   ]
  }
 ],
 "metadata": {
  "kernelspec": {
   "display_name": "base",
   "language": "python",
   "name": "python3"
  },
  "language_info": {
   "codemirror_mode": {
    "name": "ipython",
    "version": 3
   },
   "file_extension": ".py",
   "mimetype": "text/x-python",
   "name": "python",
   "nbconvert_exporter": "python",
   "pygments_lexer": "ipython3",
   "version": "3.9.7"
  }
 },
 "nbformat": 4,
 "nbformat_minor": 2
}

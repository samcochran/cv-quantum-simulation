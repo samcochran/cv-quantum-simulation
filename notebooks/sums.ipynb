{
 "cells": [
  {
   "cell_type": "code",
   "execution_count": 1,
   "metadata": {},
   "outputs": [],
   "source": [
    "import sympy as sy\n",
    "import numpy as np\n",
    "from math import comb, factorial"
   ]
  },
  {
   "cell_type": "code",
   "execution_count": 16,
   "metadata": {},
   "outputs": [
    {
     "data": {
      "text/latex": [
       "$\\displaystyle \\frac{\\left(Q_{2} - Q_{3}\\right)^{4}}{96} - \\frac{\\left(Q_{2} + Q_{3}\\right)^{4}}{96} + \\frac{\\left(- 2 Q_{1} + Q_{2} + Q_{3}\\right)^{4}}{192} - \\frac{\\left(2 Q_{1} - Q_{2} + Q_{3}\\right)^{4}}{192} - \\frac{\\left(2 Q_{1} + Q_{2} - Q_{3}\\right)^{4}}{192} + \\frac{\\left(2 Q_{1} + Q_{2} + Q_{3}\\right)^{4}}{192}$"
      ],
      "text/plain": [
       "(Q_2 - Q_3)**4/96 - (Q_2 + Q_3)**4/96 + (-2*Q_1 + Q_2 + Q_3)**4/192 - (2*Q_1 - Q_2 + Q_3)**4/192 - (2*Q_1 + Q_2 - Q_3)**4/192 + (2*Q_1 + Q_2 + Q_3)**4/192"
      ]
     },
     "execution_count": 16,
     "metadata": {},
     "output_type": "execute_result"
    }
   ],
   "source": [
    "Q1, Q2, Q3, Q4 = sy.symbols('Q_1, Q_2, Q_3, Q_4')\n",
    "P1, P2, P3, P4 = sy.symbols('P_1, P_2, P_3, P_4')\n",
    "conjugate_dict = {Q1:P1, Q2:P2, Q3:P3, Q4:P4}\n",
    "Q = [Q1, Q2, Q3, Q4]\n",
    "\n",
    "def expansion(s1, s2, s3, s4):\n",
    "    s = [s1, s2, s3, s4]\n",
    "    n = np.count_nonzero(s)\n",
    "    summation = 0\n",
    "    numerator = 1\n",
    "    upper1 = s1\n",
    "    if s1 % 2 != 0: upper1 = (s1 - 1)//2; numerator *= 2\n",
    "    for v1 in range(upper1 + 1):\n",
    "        for v2 in range(s2 + 1):\n",
    "            for v3 in range(s3 + 1):\n",
    "                for v4 in range(s4 + 1):\n",
    "                    v = [v1, v2, v3, v4]\n",
    "                    product = (-1)**(sum(v))\n",
    "                    for si, vi in zip(s, v):\n",
    "                        product *= comb(si, vi)\n",
    "                    minisum = 0\n",
    "                    h = [sy.Rational(si, 2) - vi for si, vi in zip(s, v)]\n",
    "                    for i in range(n):\n",
    "                        minisum += h[i]*Q[i]\n",
    "                    product *= minisum**sum(s)\n",
    "                    summation += sy.simplify(product)\n",
    "    summation *= sy.Rational(numerator, factorial(sum(s)))\n",
    "    return summation\n",
    "\n",
    "expanded = expansion(2, 1, 1, 0)\n",
    "# term = expanded.args[4]\n",
    "# term\n",
    "# term.args[1].args\n",
    "# term\n",
    "expanded"
   ]
  },
  {
   "cell_type": "code",
   "execution_count": 14,
   "metadata": {},
   "outputs": [
    {
     "data": {
      "text/plain": [
       "array([exp(1.0*I*P_3*Q_2), exp(-0.0104166666666667*I*Q_3**4),\n",
       "       exp(-1.0*I*P_3*Q_2)], dtype=object)"
      ]
     },
     "execution_count": 14,
     "metadata": {},
     "output_type": "execute_result"
    }
   ],
   "source": [
    "def decompose(term):\n",
    "    front_coeff = term.args[0]\n",
    "    exponent = term.args[1].args[1]\n",
    "    bracketed = term.args[1].args[0]\n",
    "    coeff_dict = bracketed.as_coefficients_dict()\n",
    "    # for arg in bracketed.args:\n",
    "    #     print(arg.coeff())\n",
    "    outer_terms = []\n",
    "    for key in list(coeff_dict.keys()):\n",
    "        if coeff_dict[key] == 1:\n",
    "            center_term = key\n",
    "            center_p = conjugate_dict[key]\n",
    "        # else:\n",
    "        #     outer_terms.append(coeff_dict[key]*key)\n",
    "\n",
    "    center = [sy.exp(1j*front_coeff*center_term**exponent)]\n",
    "    left = []\n",
    "    right = []\n",
    "    for key in list(coeff_dict.keys()):\n",
    "        if key is not center_term:\n",
    "            left.append(sy.exp(1j*coeff_dict[key]*center_p*key))\n",
    "            right.append(sy.exp(-1j*coeff_dict[key]*center_p*key))\n",
    "    result = np.concatenate((left[::-1], center, right))\n",
    "    return result\n",
    "\n",
    "decompose(expanded.args[0])"
   ]
  }
 ],
 "metadata": {
  "kernelspec": {
   "display_name": "base",
   "language": "python",
   "name": "python3"
  },
  "language_info": {
   "codemirror_mode": {
    "name": "ipython",
    "version": 3
   },
   "file_extension": ".py",
   "mimetype": "text/x-python",
   "name": "python",
   "nbconvert_exporter": "python",
   "pygments_lexer": "ipython3",
   "version": "3.11.8"
  }
 },
 "nbformat": 4,
 "nbformat_minor": 2
}
